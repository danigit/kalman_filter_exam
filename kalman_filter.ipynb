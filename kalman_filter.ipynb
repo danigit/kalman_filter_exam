{
 "cells": [
  {
   "cell_type": "markdown",
   "metadata": {},
   "source": [
    "# Tennis ball tracking using Kalman Filter\n",
    "\n",
    "## Daniel Surpanu (4120700)\n",
    "\n",
    "### Digital Signal and Image Processing"
   ]
  },
  {
   "cell_type": "markdown",
   "metadata": {},
   "source": [
    "### Importing libraries"
   ]
  },
  {
   "cell_type": "code",
   "execution_count": 1,
   "metadata": {},
   "outputs": [],
   "source": [
    "import numpy as np\n",
    "import cv2 as cv\n",
    "import time"
   ]
  },
  {
   "cell_type": "markdown",
   "metadata": {},
   "source": [
    "### Helper functions"
   ]
  },
  {
   "cell_type": "code",
   "execution_count": 2,
   "metadata": {},
   "outputs": [],
   "source": [
    "def show_frame(frame, frame_number):\n",
    "\t\"\"\"Function that visualizes the frame passed as parameter\"\"\"\n",
    "\tcv.imshow(\"Frame\", frame)\n",
    "\tif cv.waitKey(0):\n",
    "\t\tcv.destroyAllWindows()\n",
    "\n",
    "def run_frames(frames, one_by_one=False):\n",
    "\t\"\"\"Function that plays the frames passed as parameter in a video\"\"\"\n",
    "\tfor i in range(len(frames)):\n",
    "\t\tif frames[i].size > 0:\n",
    "\t\t\tif one_by_one:\n",
    "\t\t\t\tshow_frame(frames[i], i)\n",
    "\t\t\telse:\n",
    "\t\t\t\tcv.imshow(\"Frame\", frames[i])\n",
    "\t\t\t\tcv.waitKey(1)\n",
    "\t\t\t\t\n",
    "\t\t\t\ttime.sleep(0.05)\n",
    "\t\telse:\n",
    "\t\t\tbreak\n",
    "\t\n",
    "\tif cv.waitKey(0):\n",
    "\t\tcv.destroyAllWindows()\n",
    "\n",
    "def set_initial_position(ball_positions):\n",
    "\t\"\"\"Function that controls if there is at leas a ball position,\n",
    "\t\tif not it sets the ball position to (0,0)\n",
    "\t\"\"\"\n",
    "\tif (len(ball_positions) > 0 and len(ball_positions[0])) > 0:\n",
    "\t\treturn ball_positions[0][0][0], ball_positions[0][0][1]\n",
    "\telse:\n",
    "\t\treturn 0, 0\n",
    "\n",
    "def compute_nearest_measure(i, ball_positions, prev_measurement):\n",
    "\t\"\"\"Function that selects the nearest measure with respec to the previous one\"\"\"\n",
    "\tdistances = []\n",
    "\n",
    "\tfor j in range(len(ball_positions[i])):\n",
    "\t\tdistance = ((prev_measurement[0] - ball_positions[i][j][0])**2 + (prev_measurement[1] - ball_positions[i][j][1])**2)\n",
    "\t\tdistances.append([distance, ball_positions[i][j]])\n",
    "\tsorted_circles = sorted(distances, key=lambda elem: elem[0])\n",
    "\n",
    "\treturn sorted_circles[0][1]\n",
    "\n",
    "def save_video(frames, name):\n",
    "\t\"\"\"Function that saves the frames passed as parameter to a video file\"\"\"\n",
    "\tfourcc = cv.VideoWriter_fourcc(*'mp4v') \n",
    "\tout = cv.VideoWriter('data/result/' + name + '.avi', fourcc, 10, (frames[0].shape[1], frames[0].shape[0]))\n",
    "\n",
    "\tfor i in range(len(frames) - 1):\n",
    "\t\tout.write(frames[i])\n",
    "\t\t\n",
    "\tcv.destroyAllWindows()\n",
    "\t\t\n",
    "\tout.release()"
   ]
  },
  {
   "cell_type": "markdown",
   "metadata": {},
   "source": [
    "### Loading video data"
   ]
  },
  {
   "cell_type": "code",
   "execution_count": 3,
   "metadata": {},
   "outputs": [],
   "source": [
    "def read_video(path, show=False, frame_by_frame=False):\n",
    "\t\"\"\"Function that read the video file in the path passed as parameter,\n",
    "\t\tand return each individual frame\n",
    "\t\"\"\"\n",
    "\tvideo = cv.VideoCapture(path)\n",
    "\tvideo_frames = []\n",
    "\ti = 0\n",
    "\twhile(video.isOpened()):\n",
    "\t\tret, frame = video.read()\n",
    "\t\tif ret:\n",
    "\t\t\tvideo_frames.append(frame)\n",
    "\t\t\tif show:\n",
    "\t\t\t\tif frame_by_frame:\n",
    "\t\t\t\t\tshow_frame(frame, i)\n",
    "\t\t\t\telse:\n",
    "\t\t\t\t\tcv.imshow(\"Frame\", frame)\n",
    "\t\t\t\t\tif cv.waitKey(25) & 0xFF == ord('q'):\n",
    "\t\t\t\t\t\tbreak\n",
    "\t\t\ti = i + 1\n",
    "\t\telse:\n",
    "\t\t\tbreak\n",
    "\n",
    "\tvideo.release()\n",
    "\n",
    "\tif cv.waitKey(0):\n",
    "\t\tcv.destroyAllWindows()\n",
    "\n",
    "\treturn video_frames"
   ]
  },
  {
   "cell_type": "markdown",
   "metadata": {},
   "source": [
    "### Ball detection"
   ]
  },
  {
   "cell_type": "code",
   "execution_count": 4,
   "metadata": {},
   "outputs": [],
   "source": [
    "def find_ball_hough(frames, param=1, param0=1000, param1=30, param2=15, min_radius=5, max_radius=15):\n",
    "\t\"\"\"Function that estimates the position of the tennis ball inside each frame\"\"\"\n",
    "\tcircle_frames = []\n",
    "\tcircle_contour = []\n",
    "\t\n",
    "\tfor i in range(len(frames)):\n",
    "\t\tframe = cv.cvtColor(frames[i], cv.COLOR_BGR2GRAY)\n",
    "\t\tframe = cv.GaussianBlur(frame, (7, 7), 0)\n",
    "\n",
    "\t\tcircles = cv.HoughCircles(frame, cv.HOUGH_GRADIENT, param, param0, param1=param1, param2=param2, minRadius=min_radius, maxRadius=max_radius)\n",
    "\t\tif circles is not None:\n",
    "\t\t\tcircles = np.uint16(np.around(circles))\n",
    "\t\t\tfor i in circles[0,:]:\n",
    "\t\t\t\t# draw the outer circle\n",
    "\t\t\t\tcv.circle(frame,(i[0],i[1]),i[2],(0,255,0),2)\n",
    "\t\t\t\t# draw the center of the circle\n",
    "\t\t\t\tcv.circle(frame,(i[0],i[1]),2,(0,0,255),3)\n",
    "\t\t\n",
    "\t\t\tcircle_frames.append(frame)\n",
    "\t\t\tcircle_contour.append(circles[0])\n",
    "\n",
    "\treturn circle_frames, circle_contour"
   ]
  },
  {
   "cell_type": "markdown",
   "metadata": {},
   "source": [
    "### Kalman filter"
   ]
  },
  {
   "cell_type": "code",
   "execution_count": 5,
   "metadata": {},
   "outputs": [],
   "source": [
    "def initialize_kalman(x_center, y_center, fps, covariance_coefficient, measurements_coefficient):\n",
    "\t\"\"\"Function that initializes all the required variables for the Kalman filter\"\"\"\n",
    "\tdelta = fps\n",
    "\n",
    "\t# INITIALIZATION\n",
    "\t\n",
    "\t# defining the state vector\n",
    "\ts = np.array([x_center, y_center, 0, 0, -9.8, 0])\n",
    "\ts_pred = s\n",
    "\n",
    "\t# defining state transition matrix, filling the matrix using the \n",
    "\t# velocity, acceleration and position formulas\n",
    "\t# v = v_-1 + at\n",
    "\t# v^1 = v^2_0 + 2a(x - x_0)\n",
    "\t# x = x_-1 + v_0t + (at^2)/2\n",
    "\n",
    "\tPhi = np.eye(s_pred.shape[0])\n",
    "\tPhi[0][2] = delta\n",
    "\tPhi[0][4] = (delta**2)/2\n",
    "\tPhi[1][3] = delta\n",
    "\tPhi[1][5] = (delta**2)/2\n",
    "\tPhi[2][4] = delta\n",
    "\tPhi[3][5] = delta\n",
    "\n",
    "\t# defining the covariance matrix\n",
    "\tP = np.eye(s_pred.shape[0])\n",
    "\tP_pred = P\n",
    "\n",
    "\t# defining the covariance noise matrix\n",
    "\tQ = covariance_coefficient*np.eye(s_pred.shape[0])\n",
    "\n",
    "\t# defining the measurements matrix\n",
    "\tH = np.array([[1, 0, 0, 0, 0, 0], [0, 1, 0, 0, 0, 0]])\n",
    "\n",
    "\t# defining the measurements noise matrix\n",
    "\tR = measurements_coefficient*np.eye(2)\n",
    "\n",
    "\treturn s, s_pred, Phi, P, P_pred, Q, H, R"
   ]
  },
  {
   "cell_type": "code",
   "execution_count": 6,
   "metadata": {},
   "outputs": [],
   "source": [
    "def predict_kalman(Phi, P, Q, s):\n",
    "\t\"\"\"Implementation of the prediction step in the kalman filter algorithm\"\"\"\n",
    "\t# computing the projection\n",
    "\ts_pred = Phi @ s\n",
    "\tP_pred = ((Phi @ P) @ Phi.T) + Q\n",
    "\n",
    "\treturn s_pred, P_pred\n",
    "\n",
    "def update_kalman(x_center, y_center, H, P_pred, R, s_pred):\n",
    "\t\"\"\"Implementation of the update step in the Kalman filter algorithm\"\"\"\n",
    "\tm = np.array([x_center, y_center])\n",
    "\n",
    "\t# computing the gain\n",
    "\tT = H @ P_pred @ H.T + R\n",
    "\tK = P_pred @ H.T @ np.linalg.inv(T)\n",
    "\n",
    "\t# computing the innovation\n",
    "\tinnovation = m - (H @ s_pred)\n",
    "\ts = s_pred + (K @ innovation)\n",
    "\tI = np.eye(len(s_pred))\n",
    "\tP = (I - K @ H) @ P_pred\n",
    "\n",
    "\treturn s, P\n",
    "\n",
    "def run_kalman(frames, fps, covariance_coefficient=1, measurement_coefficients=1):\n",
    "\t\"\"\"Function that applies the Kalman filter on the frames passed as parameter\"\"\"\n",
    "\ttracking = []\n",
    "\ttracked_frames = []\n",
    "\n",
    "\t# getting measurements\n",
    "\tcircle_frames, ball_positions = find_ball_hough(frames, 1, frames[0].shape[0]*2, 30, 15, 20, 22)\n",
    "\n",
    "\t# initializing kalman\n",
    "\tinitial_x_position, initial_y_position = set_initial_position(ball_positions)\n",
    "\n",
    "\ts, s_pred, Phi, P, P_pred, Q, H, R = initialize_kalman(initial_x_position, initial_y_position, fps, covariance_coefficient, measurement_coefficients)\n",
    "\t\n",
    "\tprev_measurement = [initial_x_position, initial_y_position]\n",
    "\n",
    "\t# iterating \n",
    "\tfor i in range(len(ball_positions)):\n",
    "\n",
    "\t\t# control if the measure is present\n",
    "\t\tif len(ball_positions[i]) > 0:\n",
    "\t\t\t# computing the nearest measure with respect to the previous one\n",
    "\t\t\tcenter = compute_nearest_measure(i, ball_positions, prev_measurement)\n",
    "\t\t\ts, P = update_kalman(center[0], center[1], H, P_pred, R, s_pred)\n",
    "\n",
    "\t\t\tprev_measurement = ball_positions[i][0]\n",
    "\t\t\n",
    "\t\ts_pred, P_pred = predict_kalman(Phi, P, Q, s)\n",
    "\t\ttracking.append(s_pred)\n",
    "\n",
    "\treturn tracked_frames, tracking"
   ]
  },
  {
   "cell_type": "markdown",
   "metadata": {},
   "source": [
    "### Reading the video"
   ]
  },
  {
   "cell_type": "code",
   "execution_count": 11,
   "metadata": {},
   "outputs": [],
   "source": [
    "image_path = \"data/roger_back.avi\"\n",
    "frames = read_video(image_path)\t"
   ]
  },
  {
   "cell_type": "markdown",
   "metadata": {},
   "source": [
    "### Applying Kalman"
   ]
  },
  {
   "cell_type": "code",
   "execution_count": 8,
   "metadata": {},
   "outputs": [
    {
     "name": "stderr",
     "output_type": "stream",
     "text": [
      "C:\\Users\\surpa\\anaconda3\\envs\\cv_project\\lib\\site-packages\\ipykernel_launcher.py:38: RuntimeWarning: overflow encountered in ushort_scalars\n"
     ]
    }
   ],
   "source": [
    "tracked_frames, tracking = run_kalman(frames, 5, 100, 1)\n",
    "path = []\n",
    "\n",
    "# drawing the path\n",
    "for i in range(len(frames)):\n",
    "\tfor j in range(len(tracking)):\n",
    "\t\tcv.circle(frames[i], (int(tracking[j][0]), int(tracking[j][1])), 20, (0, 255, 0), 4)\n",
    "\t\tif j >= i:\n",
    "\t\t\tbreak\n",
    "\tpath.append(frames[i])\n",
    "\n",
    "run_frames(path)\n",
    "# saving the video\n",
    "save_video(path, \"test\")"
   ]
  },
  {
   "cell_type": "code",
   "execution_count": null,
   "metadata": {},
   "outputs": [],
   "source": [
    "# frame, ball = find_ball_hough(frames, 1, frames[0].shape[0]*2, 30, 15, 20, 22)\n",
    "# run_frames(frame, one_by_one=True)"
   ]
  },
  {
   "cell_type": "code",
   "execution_count": null,
   "metadata": {},
   "outputs": [],
   "source": []
  },
  {
   "cell_type": "code",
   "execution_count": null,
   "metadata": {},
   "outputs": [],
   "source": []
  },
  {
   "cell_type": "code",
   "execution_count": null,
   "metadata": {},
   "outputs": [],
   "source": []
  }
 ],
 "metadata": {
  "interpreter": {
   "hash": "8586de80ae03156fc97aedd8d28191cef5658920058b5cf7271478f93c29efde"
  },
  "kernelspec": {
   "display_name": "Python 3.7.10 64-bit ('cv_project': conda)",
   "language": "python",
   "name": "python3"
  },
  "language_info": {
   "codemirror_mode": {
    "name": "ipython",
    "version": 3
   },
   "file_extension": ".py",
   "mimetype": "text/x-python",
   "name": "python",
   "nbconvert_exporter": "python",
   "pygments_lexer": "ipython3",
   "version": "3.7.10"
  },
  "orig_nbformat": 4
 },
 "nbformat": 4,
 "nbformat_minor": 2
}
